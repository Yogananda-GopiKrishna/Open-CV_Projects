{
 "cells": [
  {
   "cell_type": "markdown",
   "metadata": {},
   "source": [
    "## Color picker project using Trackbar"
   ]
  },
  {
   "cell_type": "code",
   "execution_count": 2,
   "metadata": {},
   "outputs": [],
   "source": [
    "import cv2\n",
    "import numpy as np\n",
    "\n",
    "def cross(x):\n",
    "    pass\n",
    "\n",
    "img = np.zeros((300,512,3),np.uint8)\n",
    "\n",
    "cv2.namedWindow(\"color picker\")\n",
    "\n",
    "#create switch\n",
    "s1 = \"0:OFF\\n1:0N\"\n",
    "cv2.createTrackbar(s1,\"color picker\",0,1,cross)\n",
    "\n",
    "#creating for RGB\n",
    "#creating Trackbars for adjusting colors\n",
    "cv2.createTrackbar(\"R\",\"color picker\",0,255,cross)\n",
    "cv2.createTrackbar(\"G\",\"color picker\",0,255,cross)\n",
    "cv2.createTrackbar(\"B\",\"color picker\",0,255,cross)\n",
    "\n",
    "while True:\n",
    "    cv2.imshow(\"color picker\",img)\n",
    "    k = cv2.waitKey(1) & 0xFF\n",
    "    if k == 27 :\n",
    "        break\n",
    "    \n",
    "    #now get trackbar pos\n",
    "    s = cv2.getTrackbarPos(s1,\"color picker\")\n",
    "    r = cv2.getTrackbarPos(\"R\",\"color picker\")  \n",
    "    g = cv2.getTrackbarPos(\"G\",'color picker')\n",
    "    b = cv2.getTrackbarPos(\"B\",\"color picker\")\n",
    "\n",
    "    if s == 0:\n",
    "        img[:] = 0\n",
    "    else:\n",
    "        img[:] = [r,g,b]\n",
    "\n",
    "cv2.destroyAllWindows()\n",
    "        "
   ]
  },
  {
   "cell_type": "code",
   "execution_count": null,
   "metadata": {},
   "outputs": [],
   "source": []
  },
  {
   "cell_type": "code",
   "execution_count": null,
   "metadata": {},
   "outputs": [],
   "source": []
  }
 ],
 "metadata": {
  "kernelspec": {
   "display_name": "base",
   "language": "python",
   "name": "python3"
  },
  "language_info": {
   "codemirror_mode": {
    "name": "ipython",
    "version": 3
   },
   "file_extension": ".py",
   "mimetype": "text/x-python",
   "name": "python",
   "nbconvert_exporter": "python",
   "pygments_lexer": "ipython3",
   "version": "3.9.12"
  },
  "orig_nbformat": 4
 },
 "nbformat": 4,
 "nbformat_minor": 2
}
