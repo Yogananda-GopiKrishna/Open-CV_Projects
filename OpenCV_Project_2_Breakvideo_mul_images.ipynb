{
 "cells": [
  {
   "cell_type": "markdown",
   "metadata": {},
   "source": [
    "## Breaking video into Multiple Images and store in a folder"
   ]
  },
  {
   "cell_type": "code",
   "execution_count": 5,
   "metadata": {},
   "outputs": [],
   "source": [
    "import cv2\n",
    "\n",
    "vidcap = cv2.VideoCapture(\"VID-20230109-WA0010.mp4\")\n",
    "ret,image = vidcap.read()\n",
    "count = 0\n",
    "while True:\n",
    "    if ret == True:\n",
    "       cv2.imwrite(\"C:/Users/Admin/Downloads/Projects/Opencv_projects/video_images/imgN%d.jpg\"%count,image)\n",
    "       #speed frame collection\n",
    "       vidcap.set(cv2.CAP_PROP_POS_MSEC,(count**100))\n",
    "       ret,image = vidcap.read()\n",
    "       cv2.imshow(\"res\",image)\n",
    "       count+= 1\n",
    "       if cv2.waitKey(1) & 0xFF == ord(\"q\") :\n",
    "           break\n",
    "           cv2.destroyAllWindows()\n",
    "        \n",
    "\n",
    "\n",
    "vidcap.release()\n",
    "cv2.destroyAllWindows()\n"
   ]
  },
  {
   "cell_type": "code",
   "execution_count": null,
   "metadata": {},
   "outputs": [],
   "source": []
  }
 ],
 "metadata": {
  "kernelspec": {
   "display_name": "base",
   "language": "python",
   "name": "python3"
  },
  "language_info": {
   "codemirror_mode": {
    "name": "ipython",
    "version": 3
   },
   "file_extension": ".py",
   "mimetype": "text/x-python",
   "name": "python",
   "nbconvert_exporter": "python",
   "pygments_lexer": "ipython3",
   "version": "3.9.12"
  },
  "orig_nbformat": 4
 },
 "nbformat": 4,
 "nbformat_minor": 2
}
